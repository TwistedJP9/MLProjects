{
 "cells": [
  {
   "cell_type": "code",
   "execution_count": 1,
   "metadata": {},
   "outputs": [],
   "source": [
    "import pandas as pd\n",
    "import matplotlib.pyplot as plt\n",
    "import numpy as np\n",
    "import seaborn as sns\n",
    "import tensorflow as tf"
   ]
  },
  {
   "cell_type": "code",
   "execution_count": 2,
   "metadata": {},
   "outputs": [],
   "source": [
    "weather_data = pd.read_csv('DeBilt1970.csv')"
   ]
  },
  {
   "cell_type": "code",
   "execution_count": 3,
   "metadata": {},
   "outputs": [
    {
     "data": {
      "text/html": [
       "<div>\n",
       "<style scoped>\n",
       "    .dataframe tbody tr th:only-of-type {\n",
       "        vertical-align: middle;\n",
       "    }\n",
       "\n",
       "    .dataframe tbody tr th {\n",
       "        vertical-align: top;\n",
       "    }\n",
       "\n",
       "    .dataframe thead th {\n",
       "        text-align: right;\n",
       "    }\n",
       "</style>\n",
       "<table border=\"1\" class=\"dataframe\">\n",
       "  <thead>\n",
       "    <tr style=\"text-align: right;\">\n",
       "      <th></th>\n",
       "      <th>Date</th>\n",
       "      <th>T</th>\n",
       "      <th>T10N</th>\n",
       "      <th>TD</th>\n",
       "      <th>FH</th>\n",
       "      <th>FF</th>\n",
       "      <th>FX</th>\n",
       "    </tr>\n",
       "  </thead>\n",
       "  <tbody>\n",
       "    <tr>\n",
       "      <th>252011</th>\n",
       "      <td>2000-01-01 01:00:00</td>\n",
       "      <td>50</td>\n",
       "      <td>NaN</td>\n",
       "      <td>45</td>\n",
       "      <td>30</td>\n",
       "      <td>30</td>\n",
       "      <td>50.0</td>\n",
       "    </tr>\n",
       "  </tbody>\n",
       "</table>\n",
       "</div>"
      ],
      "text/plain": [
       "                       Date   T  T10N  TD  FH  FF    FX\n",
       "252011  2000-01-01 01:00:00  50   NaN  45  30  30  50.0"
      ]
     },
     "execution_count": 3,
     "metadata": {},
     "output_type": "execute_result"
    }
   ],
   "source": [
    "weather_data.loc[weather_data['Date'] == '2000-01-01 01:00:00']"
   ]
  },
  {
   "cell_type": "code",
   "execution_count": 4,
   "metadata": {},
   "outputs": [
    {
     "data": {
      "text/html": [
       "<div>\n",
       "<style scoped>\n",
       "    .dataframe tbody tr th:only-of-type {\n",
       "        vertical-align: middle;\n",
       "    }\n",
       "\n",
       "    .dataframe tbody tr th {\n",
       "        vertical-align: top;\n",
       "    }\n",
       "\n",
       "    .dataframe thead th {\n",
       "        text-align: right;\n",
       "    }\n",
       "</style>\n",
       "<table border=\"1\" class=\"dataframe\">\n",
       "  <thead>\n",
       "    <tr style=\"text-align: right;\">\n",
       "      <th></th>\n",
       "      <th>Date</th>\n",
       "      <th>T</th>\n",
       "      <th>T10N</th>\n",
       "      <th>TD</th>\n",
       "      <th>FH</th>\n",
       "      <th>FF</th>\n",
       "      <th>FX</th>\n",
       "    </tr>\n",
       "  </thead>\n",
       "  <tbody>\n",
       "    <tr>\n",
       "      <th>411630</th>\n",
       "      <td>2018-12-31 23:00:00</td>\n",
       "      <td>81</td>\n",
       "      <td>76.0</td>\n",
       "      <td>64</td>\n",
       "      <td>30</td>\n",
       "      <td>30</td>\n",
       "      <td>70.0</td>\n",
       "    </tr>\n",
       "  </tbody>\n",
       "</table>\n",
       "</div>"
      ],
      "text/plain": [
       "                       Date   T  T10N  TD  FH  FF    FX\n",
       "411630  2018-12-31 23:00:00  81  76.0  64  30  30  70.0"
      ]
     },
     "execution_count": 4,
     "metadata": {},
     "output_type": "execute_result"
    }
   ],
   "source": [
    "weather_data.loc[weather_data['Date'] == '2018-12-31 23:00:00']"
   ]
  },
  {
   "cell_type": "code",
   "execution_count": 5,
   "metadata": {},
   "outputs": [],
   "source": [
    "weather_train = weather_data.iloc[252010:411629,1:2].values #1:2 doesnt select column 2 but makes it a 2D array!\n",
    "weather_test = weather_data.iloc[411630: ,1].values"
   ]
  },
  {
   "cell_type": "code",
   "execution_count": 6,
   "metadata": {},
   "outputs": [],
   "source": [
    "weather_total=weather_data.iloc[:,1:2].values"
   ]
  },
  {
   "cell_type": "code",
   "execution_count": 7,
   "metadata": {},
   "outputs": [],
   "source": [
    "from sklearn.preprocessing import MinMaxScaler\n",
    "sc = MinMaxScaler(feature_range = (0, 1))\n",
    "training_set_scaled = sc.fit_transform(weather_train)"
   ]
  },
  {
   "cell_type": "code",
   "execution_count": 8,
   "metadata": {},
   "outputs": [
    {
     "data": {
      "text/plain": [
       "array([[0.43093923],\n",
       "       [0.43830571],\n",
       "       [0.44198895],\n",
       "       ...,\n",
       "       [0.50092081],\n",
       "       [0.49355433],\n",
       "       [0.48802947]])"
      ]
     },
     "execution_count": 8,
     "metadata": {},
     "output_type": "execute_result"
    }
   ],
   "source": [
    "training_set_scaled"
   ]
  },
  {
   "cell_type": "code",
   "execution_count": 9,
   "metadata": {},
   "outputs": [],
   "source": [
    "X_train = []\n",
    "y_train = []\n",
    "for i in range(200, 1258):\n",
    "    X_train.append(training_set_scaled[i-200:i, 0])\n",
    "    y_train.append(training_set_scaled[i, 0])\n",
    "X_train, y_train = np.array(X_train), np.array(y_train)"
   ]
  },
  {
   "cell_type": "code",
   "execution_count": 10,
   "metadata": {},
   "outputs": [],
   "source": [
    "X_train = np.reshape(X_train, (X_train.shape[0], X_train.shape[1], 1))"
   ]
  },
  {
   "cell_type": "code",
   "execution_count": 11,
   "metadata": {},
   "outputs": [],
   "source": [
    "# Importing the Keras libraries and packages\n",
    "from keras.models import Sequential\n",
    "from keras.layers import Dense\n",
    "from keras.layers import LSTM\n",
    "from keras.layers import Dropout"
   ]
  },
  {
   "cell_type": "code",
   "execution_count": null,
   "metadata": {},
   "outputs": [],
   "source": [
    "# Initialising the RNN\n",
    "regressor = Sequential()\n",
    "\n",
    "# Adding the first LSTM layer and some Dropout regularisation\n",
    "regressor.add(LSTM(units = 50, return_sequences = True,  input_shape = (X_train.shape[1], 1)))\n",
    "regressor.add(Dropout(0.2))\n",
    "\n",
    "# Adding a second LSTM layer and some Dropout regularisation\n",
    "regressor.add(LSTM(units = 50, return_sequences = True))\n",
    "regressor.add(Dropout(0.2))\n",
    "\n",
    "# Adding a third LSTM layer and some Dropout regularisation\n",
    "regressor.add(LSTM(units = 50, return_sequences = True))\n",
    "regressor.add(Dropout(0.2))\n",
    "\n",
    "# Adding a fourth LSTM layer and some Dropout regularisation\n",
    "regressor.add(LSTM(units = 50))\n",
    "regressor.add(Dropout(0.2))\n",
    "\n",
    "# Adding the output layer\n",
    "regressor.add(Dense(units = 1))\n",
    "\n",
    "# Compiling the RNN\n",
    "regressor.compile(optimizer = 'adam', loss = 'mean_squared_error')"
   ]
  },
  {
   "cell_type": "code",
   "execution_count": null,
   "metadata": {},
   "outputs": [],
   "source": [
    "regressor.fit(X_train, y_train, epochs = 100, batch_size = 32)"
   ]
  },
  {
   "cell_type": "code",
   "execution_count": null,
   "metadata": {},
   "outputs": [],
   "source": [
    "inputs = weather_total[len(weather_data.iloc[:,1:2].values) - len(weather_test) - 200:]\n",
    "inputs = inputs.reshape(-1,1)\n",
    "inputs = sc.transform(inputs)\n",
    "X_test = []\n",
    "for i in range(60, 13286):\n",
    "    X_test.append(inputs[i-200:i, 0])\n",
    "X_test = np.array(X_test)\n",
    "X_test = np.reshape(X_test, (X_test.shape[0], X_test.shape[1], 1))\n",
    "predicted_weather_temp= regressor.predict(X_test)\n",
    "predicted_weather_temp = sc.inverse_transform(predicted_weather_temp)"
   ]
  },
  {
   "cell_type": "code",
   "execution_count": 1,
   "metadata": {},
   "outputs": [
    {
     "ename": "NameError",
     "evalue": "name 'plt' is not defined",
     "output_type": "error",
     "traceback": [
      "\u001b[0;31m---------------------------------------------------------------------------\u001b[0m",
      "\u001b[0;31mNameError\u001b[0m                                 Traceback (most recent call last)",
      "\u001b[0;32m<ipython-input-1-64bd28ffa4d6>\u001b[0m in \u001b[0;36m<module>\u001b[0;34m\u001b[0m\n\u001b[1;32m      1\u001b[0m \u001b[0;31m# Visualising the results\u001b[0m\u001b[0;34m\u001b[0m\u001b[0;34m\u001b[0m\u001b[0;34m\u001b[0m\u001b[0m\n\u001b[0;32m----> 2\u001b[0;31m \u001b[0mplt\u001b[0m\u001b[0;34m.\u001b[0m\u001b[0mplot\u001b[0m\u001b[0;34m(\u001b[0m\u001b[0mweather_test\u001b[0m\u001b[0;34m,\u001b[0m \u001b[0mcolor\u001b[0m \u001b[0;34m=\u001b[0m \u001b[0;34m'red'\u001b[0m\u001b[0;34m,\u001b[0m \u001b[0mlabel\u001b[0m \u001b[0;34m=\u001b[0m \u001b[0;34m'Real Temperature'\u001b[0m\u001b[0;34m)\u001b[0m\u001b[0;34m\u001b[0m\u001b[0;34m\u001b[0m\u001b[0m\n\u001b[0m\u001b[1;32m      3\u001b[0m \u001b[0mplt\u001b[0m\u001b[0;34m.\u001b[0m\u001b[0mplot\u001b[0m\u001b[0;34m(\u001b[0m\u001b[0mpredicted_weather_temp\u001b[0m\u001b[0;34m,\u001b[0m\u001b[0mcolor\u001b[0m \u001b[0;34m=\u001b[0m \u001b[0;34m'blue'\u001b[0m\u001b[0;34m,\u001b[0m \u001b[0mlabel\u001b[0m \u001b[0;34m=\u001b[0m \u001b[0;34m'Predicted Temperature De Bilt'\u001b[0m\u001b[0;34m)\u001b[0m\u001b[0;34m\u001b[0m\u001b[0;34m\u001b[0m\u001b[0m\n\u001b[1;32m      4\u001b[0m \u001b[0mx1\u001b[0m\u001b[0;34m,\u001b[0m\u001b[0mx2\u001b[0m\u001b[0;34m,\u001b[0m\u001b[0my1\u001b[0m\u001b[0;34m,\u001b[0m\u001b[0my2\u001b[0m \u001b[0;34m=\u001b[0m \u001b[0mplt\u001b[0m\u001b[0;34m.\u001b[0m\u001b[0maxis\u001b[0m\u001b[0;34m(\u001b[0m\u001b[0;34m)\u001b[0m\u001b[0;34m\u001b[0m\u001b[0;34m\u001b[0m\u001b[0m\n\u001b[1;32m      5\u001b[0m \u001b[0mplt\u001b[0m\u001b[0;34m.\u001b[0m\u001b[0maxis\u001b[0m\u001b[0;34m(\u001b[0m\u001b[0;34m(\u001b[0m\u001b[0;36m6060\u001b[0m\u001b[0;34m,\u001b[0m \u001b[0;36m6070\u001b[0m\u001b[0;34m,\u001b[0m\u001b[0my1\u001b[0m\u001b[0;34m,\u001b[0m\u001b[0my2\u001b[0m\u001b[0;34m)\u001b[0m\u001b[0;34m)\u001b[0m\u001b[0;34m\u001b[0m\u001b[0;34m\u001b[0m\u001b[0m\n",
      "\u001b[0;31mNameError\u001b[0m: name 'plt' is not defined"
     ]
    }
   ],
   "source": [
    "# Visualising the results\n",
    "plt.plot(weather_test, color = 'red', label = 'Real Temperature')\n",
    "plt.plot(predicted_weather_temp,color = 'blue', label = 'Predicted Temperature De Bilt')\n",
    "x1,x2,y1,y2 = plt.axis()\n",
    "plt.axis((6060, 6070,y1,y2))\n",
    "plt.title('Weather Prediction De Bilt')\n",
    "plt.xlabel('Time')\n",
    "plt.ylabel('Temperature')\n",
    "plt.legend()\n",
    "plt.show()"
   ]
  },
  {
   "cell_type": "code",
   "execution_count": 2,
   "metadata": {},
   "outputs": [],
   "source": [
    "weather_data_daily = pd.read_csv('knmi.csv')"
   ]
  },
  {
   "cell_type": "code",
   "execution_count": 3,
   "metadata": {},
   "outputs": [
    {
     "data": {
      "text/plain": [
       "Index([' STN', 'YYYYMMDD', 'DDVEC', 'FHVEC', '   FG', '  FHX', ' FHXH',\n",
       "       '  FHN', ' FHNH', '  FXX', ' FXXH', '   TG', '   TN', '  TNH', '   TX',\n",
       "       '  TXH', ' T10N', 'T10NH', '   SQ', '   SP', '    Q', '   DR', '   RH',\n",
       "       '  RHX', ' RHXH', ' EV24', '   PG', '   PX', '  PXH', '   PN', '  PNH',\n",
       "       '  VVN', ' VVNH', '  VVX', ' VVXH', '   NG', '   UG', '   UX', '  UXH',\n",
       "       '   UN', '  UNH'],\n",
       "      dtype='object')"
      ]
     },
     "execution_count": 3,
     "metadata": {},
     "output_type": "execute_result"
    }
   ],
   "source": [
    "weather_data_daily.columns"
   ]
  },
  {
   "cell_type": "code",
   "execution_count": 4,
   "metadata": {},
   "outputs": [
    {
     "data": {
      "text/html": [
       "<div>\n",
       "<style scoped>\n",
       "    .dataframe tbody tr th:only-of-type {\n",
       "        vertical-align: middle;\n",
       "    }\n",
       "\n",
       "    .dataframe tbody tr th {\n",
       "        vertical-align: top;\n",
       "    }\n",
       "\n",
       "    .dataframe thead th {\n",
       "        text-align: right;\n",
       "    }\n",
       "</style>\n",
       "<table border=\"1\" class=\"dataframe\">\n",
       "  <thead>\n",
       "    <tr style=\"text-align: right;\">\n",
       "      <th></th>\n",
       "      <th>STN</th>\n",
       "      <th>YYYYMMDD</th>\n",
       "      <th>DDVEC</th>\n",
       "      <th>FHVEC</th>\n",
       "      <th>FG</th>\n",
       "      <th>FHX</th>\n",
       "      <th>FHXH</th>\n",
       "      <th>FHN</th>\n",
       "      <th>FHNH</th>\n",
       "      <th>FXX</th>\n",
       "      <th>...</th>\n",
       "      <th>VVN</th>\n",
       "      <th>VVNH</th>\n",
       "      <th>VVX</th>\n",
       "      <th>VVXH</th>\n",
       "      <th>NG</th>\n",
       "      <th>UG</th>\n",
       "      <th>UX</th>\n",
       "      <th>UXH</th>\n",
       "      <th>UN</th>\n",
       "      <th>UNH</th>\n",
       "    </tr>\n",
       "  </thead>\n",
       "  <tbody>\n",
       "    <tr>\n",
       "      <th>6940</th>\n",
       "      <td>260</td>\n",
       "      <td>20190101</td>\n",
       "      <td>298</td>\n",
       "      <td>36</td>\n",
       "      <td>43</td>\n",
       "      <td>50</td>\n",
       "      <td>6</td>\n",
       "      <td>30</td>\n",
       "      <td>1</td>\n",
       "      <td>140</td>\n",
       "      <td>...</td>\n",
       "      <td>36</td>\n",
       "      <td>1</td>\n",
       "      <td>75</td>\n",
       "      <td>19</td>\n",
       "      <td>7</td>\n",
       "      <td>77</td>\n",
       "      <td>97</td>\n",
       "      <td>10</td>\n",
       "      <td>58</td>\n",
       "      <td>21</td>\n",
       "    </tr>\n",
       "  </tbody>\n",
       "</table>\n",
       "<p>1 rows × 41 columns</p>\n",
       "</div>"
      ],
      "text/plain": [
       "       STN  YYYYMMDD  DDVEC  FHVEC     FG    FHX   FHXH    FHN   FHNH    FXX  \\\n",
       "6940   260  20190101    298     36     43     50      6     30      1    140   \n",
       "\n",
       "      ...    VVN   VVNH    VVX   VVXH     NG     UG     UX    UXH     UN  \\\n",
       "6940  ...     36      1     75     19      7     77     97     10     58   \n",
       "\n",
       "        UNH  \n",
       "6940     21  \n",
       "\n",
       "[1 rows x 41 columns]"
      ]
     },
     "execution_count": 4,
     "metadata": {},
     "output_type": "execute_result"
    }
   ],
   "source": [
    "weather_data_daily.loc[weather_data_daily['YYYYMMDD'] == 20190101]"
   ]
  },
  {
   "cell_type": "code",
   "execution_count": 5,
   "metadata": {},
   "outputs": [],
   "source": [
    "weather_train_daily = weather_data_daily.iloc[:6939,11:12].values #11:12 doesnt select column 12 but makes it a 2D array!\n",
    "weather_test_daily = weather_data_daily.iloc[6940: ,11:12].values"
   ]
  },
  {
   "cell_type": "code",
   "execution_count": 6,
   "metadata": {},
   "outputs": [],
   "source": [
    "weather_daily_total=weather_data_daily.iloc[:,11:12].values"
   ]
  },
  {
   "cell_type": "code",
   "execution_count": 7,
   "metadata": {},
   "outputs": [
    {
     "data": {
      "text/plain": [
       "(7487, 41)"
      ]
     },
     "execution_count": 7,
     "metadata": {},
     "output_type": "execute_result"
    }
   ],
   "source": [
    "weather_data_daily.shape"
   ]
  },
  {
   "cell_type": "code",
   "execution_count": 8,
   "metadata": {},
   "outputs": [],
   "source": [
    "from sklearn.preprocessing import MinMaxScaler\n",
    "sc = MinMaxScaler(feature_range = (0, 1))\n",
    "training_daily_scaled = sc.fit_transform(weather_train_daily)"
   ]
  },
  {
   "cell_type": "code",
   "execution_count": 9,
   "metadata": {},
   "outputs": [],
   "source": [
    "X_train = []\n",
    "y_train = []\n",
    "for i in range(60, len(training_daily_scaled)):\n",
    "    X_train.append(training_daily_scaled[i-60:i, 0])\n",
    "    y_train.append(training_daily_scaled[i, 0])\n",
    "X_train, y_train = np.array(X_train), np.array(y_train)"
   ]
  },
  {
   "cell_type": "code",
   "execution_count": 10,
   "metadata": {},
   "outputs": [],
   "source": [
    "X_train = np.reshape(X_train, (X_train.shape[0], X_train.shape[1], 1))"
   ]
  },
  {
   "cell_type": "code",
   "execution_count": 11,
   "metadata": {},
   "outputs": [],
   "source": [
    "# Importing the Keras libraries and packages\n",
    "from keras.models import Sequential\n",
    "from keras.layers import Dense\n",
    "from keras.layers import LSTM\n",
    "from keras.layers import Dropout"
   ]
  },
  {
   "cell_type": "code",
   "execution_count": 12,
   "metadata": {},
   "outputs": [],
   "source": [
    "# Initialising the RNN\n",
    "regressor = Sequential()\n",
    "\n",
    "# Adding the first LSTM layer and some Dropout regularisation\n",
    "regressor.add(LSTM(units = 50, return_sequences = True,  input_shape = (X_train.shape[1], 1)))\n",
    "regressor.add(Dropout(0.2))\n",
    "\n",
    "# Adding a second LSTM layer and some Dropout regularisation\n",
    "regressor.add(LSTM(units = 50, return_sequences = True))\n",
    "regressor.add(Dropout(0.2))\n",
    "\n",
    "# Adding a third LSTM layer and some Dropout regularisation\n",
    "regressor.add(LSTM(units = 50, return_sequences = True))\n",
    "regressor.add(Dropout(0.2))\n",
    "\n",
    "# Adding a fourth LSTM layer and some Dropout regularisation\n",
    "regressor.add(LSTM(units = 50))\n",
    "regressor.add(Dropout(0.2))\n",
    "\n",
    "# Adding the output layer\n",
    "regressor.add(Dense(units = 1))\n",
    "\n",
    "# Compiling the RNN\n",
    "regressor.compile(optimizer = 'adam', loss = 'mean_squared_error')"
   ]
  },
  {
   "cell_type": "code",
   "execution_count": 13,
   "metadata": {},
   "outputs": [
    {
     "name": "stdout",
     "output_type": "stream",
     "text": [
      "Epoch 1/100\n",
      "430/430 [==============================] - 4s 9ms/step - loss: 0.0139\n",
      "Epoch 2/100\n",
      "430/430 [==============================] - 4s 8ms/step - loss: 0.0092\n",
      "Epoch 3/100\n",
      "430/430 [==============================] - 4s 8ms/step - loss: 0.0078\n",
      "Epoch 4/100\n",
      "430/430 [==============================] - 4s 9ms/step - loss: 0.0064\n",
      "Epoch 5/100\n",
      "430/430 [==============================] - 4s 8ms/step - loss: 0.0051\n",
      "Epoch 6/100\n",
      "430/430 [==============================] - 4s 9ms/step - loss: 0.0042\n",
      "Epoch 7/100\n",
      "430/430 [==============================] - 4s 9ms/step - loss: 0.0037\n",
      "Epoch 8/100\n",
      "430/430 [==============================] - 4s 9ms/step - loss: 0.0035\n",
      "Epoch 9/100\n",
      "430/430 [==============================] - 4s 10ms/step - loss: 0.0033\n",
      "Epoch 10/100\n",
      "430/430 [==============================] - 4s 9ms/step - loss: 0.0032\n",
      "Epoch 11/100\n",
      "430/430 [==============================] - 4s 9ms/step - loss: 0.0031\n",
      "Epoch 12/100\n",
      "430/430 [==============================] - 4s 9ms/step - loss: 0.0030\n",
      "Epoch 13/100\n",
      "430/430 [==============================] - 4s 8ms/step - loss: 0.0029\n",
      "Epoch 14/100\n",
      "430/430 [==============================] - 4s 9ms/step - loss: 0.0029\n",
      "Epoch 15/100\n",
      "430/430 [==============================] - 4s 8ms/step - loss: 0.0028\n",
      "Epoch 16/100\n",
      "430/430 [==============================] - 4s 8ms/step - loss: 0.0028\n",
      "Epoch 17/100\n",
      "430/430 [==============================] - 4s 9ms/step - loss: 0.0028\n",
      "Epoch 18/100\n",
      "430/430 [==============================] - 4s 9ms/step - loss: 0.0028\n",
      "Epoch 19/100\n",
      "430/430 [==============================] - 4s 9ms/step - loss: 0.0027\n",
      "Epoch 20/100\n",
      "430/430 [==============================] - 4s 9ms/step - loss: 0.0027\n",
      "Epoch 21/100\n",
      "430/430 [==============================] - 4s 10ms/step - loss: 0.0027\n",
      "Epoch 22/100\n",
      "430/430 [==============================] - 4s 9ms/step - loss: 0.0026\n",
      "Epoch 23/100\n",
      "430/430 [==============================] - 4s 9ms/step - loss: 0.0027\n",
      "Epoch 24/100\n",
      "430/430 [==============================] - 4s 9ms/step - loss: 0.0027\n",
      "Epoch 25/100\n",
      "430/430 [==============================] - 4s 9ms/step - loss: 0.0027\n",
      "Epoch 26/100\n",
      "430/430 [==============================] - 4s 9ms/step - loss: 0.0026\n",
      "Epoch 27/100\n",
      "430/430 [==============================] - 4s 9ms/step - loss: 0.0026\n",
      "Epoch 28/100\n",
      "430/430 [==============================] - 4s 9ms/step - loss: 0.0026\n",
      "Epoch 29/100\n",
      "430/430 [==============================] - 4s 8ms/step - loss: 0.0026\n",
      "Epoch 30/100\n",
      "430/430 [==============================] - 4s 8ms/step - loss: 0.0025\n",
      "Epoch 31/100\n",
      "430/430 [==============================] - 4s 9ms/step - loss: 0.0026\n",
      "Epoch 32/100\n",
      "430/430 [==============================] - 4s 9ms/step - loss: 0.0026\n",
      "Epoch 33/100\n",
      "430/430 [==============================] - 4s 10ms/step - loss: 0.0026\n",
      "Epoch 34/100\n",
      "430/430 [==============================] - 4s 9ms/step - loss: 0.0026\n",
      "Epoch 35/100\n",
      "430/430 [==============================] - 4s 10ms/step - loss: 0.0026\n",
      "Epoch 36/100\n",
      "430/430 [==============================] - 4s 9ms/step - loss: 0.0026\n",
      "Epoch 37/100\n",
      "430/430 [==============================] - 4s 9ms/step - loss: 0.0025\n",
      "Epoch 38/100\n",
      "430/430 [==============================] - 4s 9ms/step - loss: 0.0026\n",
      "Epoch 39/100\n",
      "430/430 [==============================] - 4s 9ms/step - loss: 0.0026\n",
      "Epoch 40/100\n",
      "430/430 [==============================] - 4s 9ms/step - loss: 0.0025\n",
      "Epoch 41/100\n",
      "430/430 [==============================] - 4s 9ms/step - loss: 0.0026\n",
      "Epoch 42/100\n",
      "430/430 [==============================] - 4s 9ms/step - loss: 0.0025\n",
      "Epoch 43/100\n",
      "430/430 [==============================] - 4s 9ms/step - loss: 0.0025\n",
      "Epoch 44/100\n",
      "430/430 [==============================] - 4s 9ms/step - loss: 0.0026\n",
      "Epoch 45/100\n",
      "430/430 [==============================] - 4s 9ms/step - loss: 0.0025\n",
      "Epoch 46/100\n",
      "430/430 [==============================] - 4s 9ms/step - loss: 0.0025\n",
      "Epoch 47/100\n",
      "430/430 [==============================] - 4s 9ms/step - loss: 0.0025\n",
      "Epoch 48/100\n",
      "430/430 [==============================] - 4s 9ms/step - loss: 0.0025\n",
      "Epoch 49/100\n",
      "430/430 [==============================] - 4s 9ms/step - loss: 0.0025\n",
      "Epoch 50/100\n",
      "430/430 [==============================] - 4s 9ms/step - loss: 0.0025\n",
      "Epoch 51/100\n",
      "430/430 [==============================] - 4s 9ms/step - loss: 0.0025\n",
      "Epoch 52/100\n",
      "430/430 [==============================] - 4s 10ms/step - loss: 0.0025\n",
      "Epoch 53/100\n",
      "430/430 [==============================] - 4s 9ms/step - loss: 0.0025\n",
      "Epoch 54/100\n",
      "430/430 [==============================] - 4s 8ms/step - loss: 0.0025\n",
      "Epoch 55/100\n",
      "430/430 [==============================] - 4s 8ms/step - loss: 0.0025\n",
      "Epoch 56/100\n",
      "430/430 [==============================] - 4s 9ms/step - loss: 0.0025\n",
      "Epoch 57/100\n",
      "430/430 [==============================] - 4s 9ms/step - loss: 0.0025\n",
      "Epoch 58/100\n",
      "430/430 [==============================] - 4s 9ms/step - loss: 0.0025\n",
      "Epoch 59/100\n",
      "430/430 [==============================] - 4s 8ms/step - loss: 0.0025\n",
      "Epoch 60/100\n",
      "430/430 [==============================] - 4s 9ms/step - loss: 0.0025\n",
      "Epoch 61/100\n",
      "430/430 [==============================] - 4s 9ms/step - loss: 0.0025\n",
      "Epoch 62/100\n",
      "430/430 [==============================] - 4s 9ms/step - loss: 0.0025\n",
      "Epoch 63/100\n",
      "430/430 [==============================] - 4s 9ms/step - loss: 0.0025\n",
      "Epoch 64/100\n",
      "430/430 [==============================] - 4s 9ms/step - loss: 0.0025\n",
      "Epoch 65/100\n",
      "430/430 [==============================] - 4s 9ms/step - loss: 0.0025\n",
      "Epoch 66/100\n",
      "430/430 [==============================] - 4s 9ms/step - loss: 0.0025\n",
      "Epoch 67/100\n",
      "430/430 [==============================] - 4s 9ms/step - loss: 0.0025\n",
      "Epoch 68/100\n",
      "430/430 [==============================] - 4s 9ms/step - loss: 0.0025\n",
      "Epoch 69/100\n",
      "430/430 [==============================] - 4s 9ms/step - loss: 0.0025\n",
      "Epoch 70/100\n",
      "430/430 [==============================] - 4s 9ms/step - loss: 0.0025\n",
      "Epoch 71/100\n",
      "430/430 [==============================] - 4s 9ms/step - loss: 0.0024\n",
      "Epoch 72/100\n",
      "430/430 [==============================] - 4s 9ms/step - loss: 0.0025\n",
      "Epoch 73/100\n",
      "430/430 [==============================] - 4s 9ms/step - loss: 0.0025\n",
      "Epoch 74/100\n",
      "430/430 [==============================] - 4s 9ms/step - loss: 0.0025\n",
      "Epoch 75/100\n",
      "430/430 [==============================] - 4s 9ms/step - loss: 0.0024\n",
      "Epoch 76/100\n",
      "430/430 [==============================] - 4s 9ms/step - loss: 0.0025\n",
      "Epoch 77/100\n",
      "430/430 [==============================] - 4s 9ms/step - loss: 0.0025\n",
      "Epoch 78/100\n",
      "430/430 [==============================] - 4s 9ms/step - loss: 0.0024\n",
      "Epoch 79/100\n",
      "430/430 [==============================] - 4s 9ms/step - loss: 0.0025\n",
      "Epoch 80/100\n",
      "430/430 [==============================] - 4s 9ms/step - loss: 0.0024\n",
      "Epoch 81/100\n",
      "430/430 [==============================] - 4s 9ms/step - loss: 0.0024\n",
      "Epoch 82/100\n",
      "430/430 [==============================] - 4s 9ms/step - loss: 0.0025\n",
      "Epoch 83/100\n",
      "430/430 [==============================] - 4s 9ms/step - loss: 0.0024\n",
      "Epoch 84/100\n",
      "430/430 [==============================] - 4s 9ms/step - loss: 0.0025\n",
      "Epoch 85/100\n",
      "430/430 [==============================] - 4s 9ms/step - loss: 0.0024\n",
      "Epoch 86/100\n",
      "430/430 [==============================] - 4s 9ms/step - loss: 0.0024\n",
      "Epoch 87/100\n",
      "430/430 [==============================] - 4s 9ms/step - loss: 0.0024\n",
      "Epoch 88/100\n",
      "430/430 [==============================] - 4s 9ms/step - loss: 0.0024\n",
      "Epoch 89/100\n",
      "430/430 [==============================] - 4s 9ms/step - loss: 0.0024\n",
      "Epoch 90/100\n",
      "430/430 [==============================] - 4s 9ms/step - loss: 0.0024\n",
      "Epoch 91/100\n",
      "430/430 [==============================] - 4s 9ms/step - loss: 0.0025\n",
      "Epoch 92/100\n",
      "430/430 [==============================] - 4s 9ms/step - loss: 0.0024\n",
      "Epoch 93/100\n",
      "430/430 [==============================] - 4s 9ms/step - loss: 0.0025\n",
      "Epoch 94/100\n",
      "430/430 [==============================] - 4s 9ms/step - loss: 0.0025\n",
      "Epoch 95/100\n",
      "430/430 [==============================] - 4s 9ms/step - loss: 0.0024\n",
      "Epoch 96/100\n",
      "430/430 [==============================] - 4s 8ms/step - loss: 0.0024\n",
      "Epoch 97/100\n",
      "430/430 [==============================] - 4s 9ms/step - loss: 0.0024\n",
      "Epoch 98/100\n",
      "430/430 [==============================] - 4s 9ms/step - loss: 0.0025\n",
      "Epoch 99/100\n",
      "430/430 [==============================] - 4s 8ms/step - loss: 0.0024\n",
      "Epoch 100/100\n",
      "430/430 [==============================] - 4s 9ms/step - loss: 0.0024\n"
     ]
    },
    {
     "data": {
      "text/plain": [
       "<tensorflow.python.keras.callbacks.History at 0x7f458c12ea90>"
      ]
     },
     "execution_count": 13,
     "metadata": {},
     "output_type": "execute_result"
    }
   ],
   "source": [
    "regressor.fit(X_train, y_train, epochs = 100, batch_size = 16)"
   ]
  },
  {
   "cell_type": "code",
   "execution_count": 14,
   "metadata": {},
   "outputs": [],
   "source": [
    "inputs = weather_daily_total[len(weather_data_daily.iloc[:,1:2].values) - len(weather_test_daily) - 60:]\n",
    "inputs = inputs.reshape(-1,1)\n",
    "inputs = sc.transform(inputs)\n",
    "X_test = []\n",
    "for i in range(60, len(inputs)):\n",
    "    X_test.append(inputs[i-60:i, 0])\n",
    "X_test = np.array(X_test)\n",
    "X_test = np.reshape(X_test, (X_test.shape[0], X_test.shape[1], 1))\n",
    "predicted_weather_temp= regressor.predict(X_test)\n",
    "predicted_weather_temp = sc.inverse_transform(predicted_weather_temp)"
   ]
  },
  {
   "cell_type": "code",
   "execution_count": 15,
   "metadata": {},
   "outputs": [
    {
     "data": {
      "image/png": "[encoded data removed]",
      "text/plain": [
       "<Figure size 432x288 with 1 Axes>"
      ]
     },
     "metadata": {
      "needs_background": "light"
     },
     "output_type": "display_data"
    }
   ],
   "source": [
    "# Visualising the results\n",
    "plt.plot(weather_test_daily, color = 'red', label = 'Real Temperature')\n",
    "plt.plot(predicted_weather_temp,color = 'blue', label = 'Predicted Temperature De Bilt')\n",
    "x1,x2,y1,y2 = plt.axis()\n",
    "plt.axis((410, 415,y1,y2))\n",
    "plt.title('Weather Prediction De Bilt')\n",
    "plt.xlabel('Time')\n",
    "plt.ylabel('Temperature')\n",
    "plt.legend()\n",
    "plt.show()"
   ]
  },
  {
   "cell_type": "markdown",
   "metadata": {},
   "source": [
    "# EXTRA BS|"
   ]
  },
  {
   "cell_type": "code",
   "execution_count": null,
   "metadata": {},
   "outputs": [],
   "source": [
    "weather_data = pd.read_csv('DeBilt1970.csv')"
   ]
  },
  {
   "cell_type": "code",
   "execution_count": 1,
   "metadata": {},
   "outputs": [
    {
     "ename": "NameError",
     "evalue": "name 'weather_data' is not defined",
     "output_type": "error",
     "traceback": [
      "\u001b[0;31m---------------------------------------------------------------------------\u001b[0m",
      "\u001b[0;31mNameError\u001b[0m                                 Traceback (most recent call last)",
      "\u001b[0;32m<ipython-input-1-3f058c99ddd2>\u001b[0m in \u001b[0;36m<module>\u001b[0;34m\u001b[0m\n\u001b[0;32m----> 1\u001b[0;31m \u001b[0mweather_train\u001b[0m \u001b[0;34m=\u001b[0m \u001b[0mweather_data\u001b[0m\u001b[0;34m.\u001b[0m\u001b[0miloc\u001b[0m\u001b[0;34m[\u001b[0m\u001b[0;36m168015\u001b[0m\u001b[0;34m:\u001b[0m\u001b[0;36m350000\u001b[0m\u001b[0;34m,\u001b[0m\u001b[0;36m1\u001b[0m\u001b[0;34m:\u001b[0m\u001b[0;36m2\u001b[0m\u001b[0;34m]\u001b[0m\u001b[0;34m.\u001b[0m\u001b[0mvalues\u001b[0m \u001b[0;31m#1:2 doesnt select column 2 but makes it a 2D array!\u001b[0m\u001b[0;34m\u001b[0m\u001b[0;34m\u001b[0m\u001b[0m\n\u001b[0m\u001b[1;32m      2\u001b[0m \u001b[0mweather_valid\u001b[0m \u001b[0;34m=\u001b[0m \u001b[0mweather_data\u001b[0m\u001b[0;34m.\u001b[0m\u001b[0miloc\u001b[0m\u001b[0;34m[\u001b[0m\u001b[0;36m350000\u001b[0m\u001b[0;34m:\u001b[0m\u001b[0;36m411630\u001b[0m\u001b[0;34m,\u001b[0m\u001b[0;36m1\u001b[0m\u001b[0;34m:\u001b[0m\u001b[0;36m2\u001b[0m\u001b[0;34m]\u001b[0m\u001b[0;34m.\u001b[0m\u001b[0mvalues\u001b[0m\u001b[0;34m\u001b[0m\u001b[0;34m\u001b[0m\u001b[0m\n\u001b[1;32m      3\u001b[0m \u001b[0mweather_test\u001b[0m \u001b[0;34m=\u001b[0m \u001b[0mweather_data\u001b[0m\u001b[0;34m.\u001b[0m\u001b[0miloc\u001b[0m\u001b[0;34m[\u001b[0m\u001b[0;36m411630\u001b[0m\u001b[0;34m:\u001b[0m \u001b[0;34m,\u001b[0m\u001b[0;36m1\u001b[0m\u001b[0;34m:\u001b[0m\u001b[0;36m2\u001b[0m\u001b[0;34m]\u001b[0m\u001b[0;34m.\u001b[0m\u001b[0mvalues\u001b[0m\u001b[0;34m\u001b[0m\u001b[0;34m\u001b[0m\u001b[0m\n\u001b[1;32m      4\u001b[0m \u001b[0mweather_total\u001b[0m \u001b[0;34m=\u001b[0m \u001b[0mweather_data\u001b[0m\u001b[0;34m.\u001b[0m\u001b[0miloc\u001b[0m\u001b[0;34m[\u001b[0m\u001b[0;36m168015\u001b[0m\u001b[0;34m:\u001b[0m\u001b[0;34m,\u001b[0m \u001b[0;36m1\u001b[0m\u001b[0;34m:\u001b[0m\u001b[0;36m2\u001b[0m\u001b[0;34m]\u001b[0m\u001b[0;34m\u001b[0m\u001b[0;34m\u001b[0m\u001b[0m\n",
      "\u001b[0;31mNameError\u001b[0m: name 'weather_data' is not defined"
     ]
    }
   ],
   "source": [
    "weather_train = weather_data.iloc[168015:350000,1:2].values #1:2 doesnt select column 2 but makes it a 2D array!\n",
    "weather_valid = weather_data.iloc[350000:411630,1:2].values\n",
    "weather_test = weather_data.iloc[411630: ,1:2].values\n",
    "weather_total = weather_data.iloc[168015:, 1:2]"
   ]
  },
  {
   "cell_type": "code",
   "execution_count": null,
   "metadata": {},
   "outputs": [],
   "source": [
    "from sklearn.preprocessing import MinMaxScaler\n",
    "sc = MinMaxScaler(feature_range = (0, 1))\n",
    "training_set_scaled = sc.fit_transform(weather_train)\n",
    "valid_set_scaled = sc.transform(weather_valid)"
   ]
  },
  {
   "cell_type": "code",
   "execution_count": null,
   "metadata": {},
   "outputs": [],
   "source": [
    "training_set_scaled[159600:159628,0]"
   ]
  },
  {
   "cell_type": "code",
   "execution_count": null,
   "metadata": {},
   "outputs": [],
   "source": []
  },
  {
   "cell_type": "code",
   "execution_count": null,
   "metadata": {},
   "outputs": [],
   "source": []
  },
  {
   "cell_type": "code",
   "execution_count": null,
   "metadata": {},
   "outputs": [],
   "source": [
    "def generator(data, lookback, delay, min_index, max_index,\n",
    "              shuffle=False, batch_size=128, step=6):\n",
    "    if max_index is None:\n",
    "        max_index = len(data) - delay - 1\n",
    "        i = min_index + lookback\n",
    "    while 1:\n",
    "        if shuffle:\n",
    "            rows = np.random.randint(\n",
    "                min_index + lookback, max_index, size=batch_size)\n",
    "        else:\n",
    "            if i + batch_size >= max_index:\n",
    "                i = min_index + lookback\n",
    "            rows = np.arange(i, min(i + batch_size, max_index))\n",
    "            i += len(rows)\n",
    "        samples = np.zeros((len(rows),\n",
    "                            lookback // step,\n",
    "                            data.shape[-1]))\n",
    "        targets = np.zeros((len(rows),))\n",
    "        for j, row in enumerate(rows):\n",
    "            indices = range(rows[j] - lookback, rows[j], step)\n",
    "            samples[j] = data[indices]\n",
    "            targets[j] = data[rows[j] + delay][1]\n",
    "    yield samples, targets"
   ]
  },
  {
   "cell_type": "code",
   "execution_count": null,
   "metadata": {},
   "outputs": [],
   "source": [
    "lookback = 1440\n",
    "step = 6\n",
    "delay = 144\n",
    "batch_size = 128"
   ]
  },
  {
   "cell_type": "code",
   "execution_count": null,
   "metadata": {},
   "outputs": [],
   "source": [
    "train_gen = generator(weather_total,\n",
    "                      lookback=lookback,\n",
    "                      delay=delay,\n",
    "                      min_index=0,\n",
    "                      max_index=200000,\n",
    "                      shuffle=True,\n",
    "                      step=step,\n",
    "                      batch_size=batch_size)"
   ]
  },
  {
   "cell_type": "code",
   "execution_count": null,
   "metadata": {},
   "outputs": [],
   "source": [
    "val_gen = generator(weather_total,\n",
    "                    lookback=lookback,\n",
    "                    delay=delay,\n",
    "                    min_index=200001,\n",
    "                    max_index=300000,\n",
    "                    step=step,\n",
    "                    batch_size=batch_size)"
   ]
  },
  {
   "cell_type": "code",
   "execution_count": null,
   "metadata": {},
   "outputs": [],
   "source": [
    "test_gen = generator(weather_total,\n",
    "                     lookback=lookback,\n",
    "                     delay=delay,\n",
    "                     min_index=300001,\n",
    "                     max_index=None,\n",
    "                     step=step,\n",
    "                     batch_size=batch_size)"
   ]
  },
  {
   "cell_type": "code",
   "execution_count": null,
   "metadata": {},
   "outputs": [],
   "source": [
    "val_steps = (300000 - 200001 - lookback)\n",
    "test_steps = (len(float_data) - 300001 - lookback)"
   ]
  },
  {
   "cell_type": "code",
   "execution_count": null,
   "metadata": {},
   "outputs": [],
   "source": [
    "from keras.models import Sequential\n",
    "from keras import layers\n",
    "from keras.optimizers import RMSprop\n",
    "\n",
    "\n",
    "model = Sequential()\n",
    "model.add(layers.GRU(32,\n",
    "                    dropout=0.2,\n",
    "                    recurrent_dropout=0.2,\n",
    "                    input_shape=(None, float_data.shape[-1])))\n",
    "model.add(layers.Dense(1))\n",
    "model.compile(optimizer=RMSprop(), loss='mae')\n",
    "\n",
    "\n",
    "history = model.fit_generator(train_gen,\n",
    "                              steps_per_epoch=500,\n",
    "                              epochs=40,\n",
    "                              validation_data=val_gen,\n",
    "                              validation_steps=val_steps)"
   ]
  }
 ],
 "metadata": {
  "kernelspec": {
   "display_name": "Python 3",
   "language": "python",
   "name": "python3"
  },
  "language_info": {
   "codemirror_mode": {
    "name": "ipython",
    "version": 3
   },
   "file_extension": ".py",
   "mimetype": "text/x-python",
   "name": "python",
   "nbconvert_exporter": "python",
   "pygments_lexer": "ipython3",
   "version": "3.7.6"
  }
 },
 "nbformat": 4,
 "nbformat_minor": 4
}
