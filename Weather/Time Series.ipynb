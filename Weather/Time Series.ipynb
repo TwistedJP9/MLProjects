{
 "cells": [
  {
   "cell_type": "markdown",
   "metadata": {},
   "source": [
    "# Predicting the Weather in Utrecht(NL) with a Recurrent Neural Network focused on a time Series"
   ]
  },
  {
   "cell_type": "markdown",
   "metadata": {},
   "source": [
    "We will create a predictive model for the weather station based at De Bilt, slightly outside of the city of Utrecht. This location has historically been used as the benchmark for the Netherlands due to its central location\n",
    "\n",
    "The data ranges from 1970 till today and has been pulled with the help of the KNMY package (https://knmy.readthedocs.io/en/latest/) in a separate notebook. The data is hourly and starts from 1970."
   ]
  },
  {
   "cell_type": "markdown",
   "metadata": {},
   "source": [
    "## Data Preparation of Hourly Data"
   ]
  },
  {
   "cell_type": "code",
   "execution_count": 1,
   "metadata": {},
   "outputs": [],
   "source": [
    "import pandas as pd\n",
    "import matplotlib.pyplot as plt\n",
    "import numpy as np\n",
    "import seaborn as sns\n",
    "import tensorflow as tf"
   ]
  },
  {
   "cell_type": "code",
   "execution_count": 2,
   "metadata": {},
   "outputs": [],
   "source": [
    "weather_data = pd.read_csv('DeBilt1970.csv')"
   ]
  },
  {
   "cell_type": "code",
   "execution_count": 3,
   "metadata": {
    "scrolled": true
   },
   "outputs": [
    {
     "data": {
      "text/html": [
       "<div>\n",
       "<style scoped>\n",
       "    .dataframe tbody tr th:only-of-type {\n",
       "        vertical-align: middle;\n",
       "    }\n",
       "\n",
       "    .dataframe tbody tr th {\n",
       "        vertical-align: top;\n",
       "    }\n",
       "\n",
       "    .dataframe thead th {\n",
       "        text-align: right;\n",
       "    }\n",
       "</style>\n",
       "<table border=\"1\" class=\"dataframe\">\n",
       "  <thead>\n",
       "    <tr style=\"text-align: right;\">\n",
       "      <th></th>\n",
       "      <th>Date</th>\n",
       "      <th>T</th>\n",
       "      <th>T10N</th>\n",
       "      <th>TD</th>\n",
       "      <th>FH</th>\n",
       "      <th>FF</th>\n",
       "      <th>FX</th>\n",
       "    </tr>\n",
       "  </thead>\n",
       "  <tbody>\n",
       "    <tr>\n",
       "      <th>0</th>\n",
       "      <td>1970-01-01 01:00:00</td>\n",
       "      <td>-104</td>\n",
       "      <td>NaN</td>\n",
       "      <td>-146</td>\n",
       "      <td>51</td>\n",
       "      <td>51</td>\n",
       "      <td>NaN</td>\n",
       "    </tr>\n",
       "    <tr>\n",
       "      <th>1</th>\n",
       "      <td>1970-01-01 02:00:00</td>\n",
       "      <td>-102</td>\n",
       "      <td>NaN</td>\n",
       "      <td>-132</td>\n",
       "      <td>36</td>\n",
       "      <td>41</td>\n",
       "      <td>NaN</td>\n",
       "    </tr>\n",
       "    <tr>\n",
       "      <th>2</th>\n",
       "      <td>1970-01-01 03:00:00</td>\n",
       "      <td>-97</td>\n",
       "      <td>NaN</td>\n",
       "      <td>-143</td>\n",
       "      <td>36</td>\n",
       "      <td>36</td>\n",
       "      <td>NaN</td>\n",
       "    </tr>\n",
       "    <tr>\n",
       "      <th>3</th>\n",
       "      <td>1970-01-01 04:00:00</td>\n",
       "      <td>-100</td>\n",
       "      <td>NaN</td>\n",
       "      <td>-133</td>\n",
       "      <td>31</td>\n",
       "      <td>41</td>\n",
       "      <td>NaN</td>\n",
       "    </tr>\n",
       "    <tr>\n",
       "      <th>4</th>\n",
       "      <td>1970-01-01 05:00:00</td>\n",
       "      <td>-103</td>\n",
       "      <td>NaN</td>\n",
       "      <td>-150</td>\n",
       "      <td>31</td>\n",
       "      <td>36</td>\n",
       "      <td>NaN</td>\n",
       "    </tr>\n",
       "    <tr>\n",
       "      <th>5</th>\n",
       "      <td>1970-01-01 06:00:00</td>\n",
       "      <td>-112</td>\n",
       "      <td>NaN</td>\n",
       "      <td>-144</td>\n",
       "      <td>31</td>\n",
       "      <td>36</td>\n",
       "      <td>NaN</td>\n",
       "    </tr>\n",
       "    <tr>\n",
       "      <th>6</th>\n",
       "      <td>1970-01-01 07:00:00</td>\n",
       "      <td>-117</td>\n",
       "      <td>-120.0</td>\n",
       "      <td>-150</td>\n",
       "      <td>26</td>\n",
       "      <td>21</td>\n",
       "      <td>NaN</td>\n",
       "    </tr>\n",
       "    <tr>\n",
       "      <th>7</th>\n",
       "      <td>1970-01-01 08:00:00</td>\n",
       "      <td>-111</td>\n",
       "      <td>NaN</td>\n",
       "      <td>-156</td>\n",
       "      <td>21</td>\n",
       "      <td>31</td>\n",
       "      <td>NaN</td>\n",
       "    </tr>\n",
       "    <tr>\n",
       "      <th>8</th>\n",
       "      <td>1970-01-01 09:00:00</td>\n",
       "      <td>-101</td>\n",
       "      <td>NaN</td>\n",
       "      <td>-144</td>\n",
       "      <td>21</td>\n",
       "      <td>26</td>\n",
       "      <td>NaN</td>\n",
       "    </tr>\n",
       "    <tr>\n",
       "      <th>9</th>\n",
       "      <td>1970-01-01 10:00:00</td>\n",
       "      <td>-89</td>\n",
       "      <td>NaN</td>\n",
       "      <td>-132</td>\n",
       "      <td>26</td>\n",
       "      <td>26</td>\n",
       "      <td>NaN</td>\n",
       "    </tr>\n",
       "    <tr>\n",
       "      <th>10</th>\n",
       "      <td>1970-01-01 11:00:00</td>\n",
       "      <td>-78</td>\n",
       "      <td>NaN</td>\n",
       "      <td>-113</td>\n",
       "      <td>21</td>\n",
       "      <td>21</td>\n",
       "      <td>NaN</td>\n",
       "    </tr>\n",
       "    <tr>\n",
       "      <th>11</th>\n",
       "      <td>1970-01-01 12:00:00</td>\n",
       "      <td>-66</td>\n",
       "      <td>NaN</td>\n",
       "      <td>-102</td>\n",
       "      <td>21</td>\n",
       "      <td>26</td>\n",
       "      <td>NaN</td>\n",
       "    </tr>\n",
       "    <tr>\n",
       "      <th>12</th>\n",
       "      <td>1970-01-01 13:00:00</td>\n",
       "      <td>-54</td>\n",
       "      <td>NaN</td>\n",
       "      <td>-87</td>\n",
       "      <td>21</td>\n",
       "      <td>21</td>\n",
       "      <td>NaN</td>\n",
       "    </tr>\n",
       "    <tr>\n",
       "      <th>13</th>\n",
       "      <td>1970-01-01 14:00:00</td>\n",
       "      <td>-58</td>\n",
       "      <td>NaN</td>\n",
       "      <td>-79</td>\n",
       "      <td>15</td>\n",
       "      <td>15</td>\n",
       "      <td>NaN</td>\n",
       "    </tr>\n",
       "    <tr>\n",
       "      <th>14</th>\n",
       "      <td>1970-01-01 15:00:00</td>\n",
       "      <td>-67</td>\n",
       "      <td>NaN</td>\n",
       "      <td>-90</td>\n",
       "      <td>10</td>\n",
       "      <td>0</td>\n",
       "      <td>26.0</td>\n",
       "    </tr>\n",
       "    <tr>\n",
       "      <th>15</th>\n",
       "      <td>1970-01-01 16:00:00</td>\n",
       "      <td>-86</td>\n",
       "      <td>NaN</td>\n",
       "      <td>-108</td>\n",
       "      <td>5</td>\n",
       "      <td>0</td>\n",
       "      <td>10.0</td>\n",
       "    </tr>\n",
       "    <tr>\n",
       "      <th>16</th>\n",
       "      <td>1970-01-01 17:00:00</td>\n",
       "      <td>-98</td>\n",
       "      <td>NaN</td>\n",
       "      <td>-131</td>\n",
       "      <td>5</td>\n",
       "      <td>5</td>\n",
       "      <td>10.0</td>\n",
       "    </tr>\n",
       "    <tr>\n",
       "      <th>17</th>\n",
       "      <td>1970-01-01 18:00:00</td>\n",
       "      <td>-102</td>\n",
       "      <td>NaN</td>\n",
       "      <td>-132</td>\n",
       "      <td>5</td>\n",
       "      <td>10</td>\n",
       "      <td>15.0</td>\n",
       "    </tr>\n",
       "    <tr>\n",
       "      <th>18</th>\n",
       "      <td>1970-01-01 19:00:00</td>\n",
       "      <td>-99</td>\n",
       "      <td>NaN</td>\n",
       "      <td>-124</td>\n",
       "      <td>5</td>\n",
       "      <td>5</td>\n",
       "      <td>15.0</td>\n",
       "    </tr>\n",
       "    <tr>\n",
       "      <th>19</th>\n",
       "      <td>1970-01-01 20:00:00</td>\n",
       "      <td>-103</td>\n",
       "      <td>NaN</td>\n",
       "      <td>-125</td>\n",
       "      <td>15</td>\n",
       "      <td>10</td>\n",
       "      <td>15.0</td>\n",
       "    </tr>\n",
       "    <tr>\n",
       "      <th>20</th>\n",
       "      <td>1970-01-01 21:00:00</td>\n",
       "      <td>-86</td>\n",
       "      <td>NaN</td>\n",
       "      <td>-113</td>\n",
       "      <td>21</td>\n",
       "      <td>15</td>\n",
       "      <td>26.0</td>\n",
       "    </tr>\n",
       "    <tr>\n",
       "      <th>21</th>\n",
       "      <td>1970-01-01 22:00:00</td>\n",
       "      <td>-63</td>\n",
       "      <td>NaN</td>\n",
       "      <td>-94</td>\n",
       "      <td>31</td>\n",
       "      <td>26</td>\n",
       "      <td>46.0</td>\n",
       "    </tr>\n",
       "    <tr>\n",
       "      <th>22</th>\n",
       "      <td>1970-01-01 23:00:00</td>\n",
       "      <td>-52</td>\n",
       "      <td>NaN</td>\n",
       "      <td>-84</td>\n",
       "      <td>41</td>\n",
       "      <td>31</td>\n",
       "      <td>51.0</td>\n",
       "    </tr>\n",
       "    <tr>\n",
       "      <th>23</th>\n",
       "      <td>1970-01-02 01:00:00</td>\n",
       "      <td>-36</td>\n",
       "      <td>NaN</td>\n",
       "      <td>-68</td>\n",
       "      <td>51</td>\n",
       "      <td>36</td>\n",
       "      <td>67.0</td>\n",
       "    </tr>\n",
       "    <tr>\n",
       "      <th>24</th>\n",
       "      <td>1970-01-02 02:00:00</td>\n",
       "      <td>-26</td>\n",
       "      <td>NaN</td>\n",
       "      <td>-52</td>\n",
       "      <td>51</td>\n",
       "      <td>41</td>\n",
       "      <td>77.0</td>\n",
       "    </tr>\n",
       "  </tbody>\n",
       "</table>\n",
       "</div>"
      ],
      "text/plain": [
       "                   Date    T   T10N   TD  FH  FF    FX\n",
       "0   1970-01-01 01:00:00 -104    NaN -146  51  51   NaN\n",
       "1   1970-01-01 02:00:00 -102    NaN -132  36  41   NaN\n",
       "2   1970-01-01 03:00:00  -97    NaN -143  36  36   NaN\n",
       "3   1970-01-01 04:00:00 -100    NaN -133  31  41   NaN\n",
       "4   1970-01-01 05:00:00 -103    NaN -150  31  36   NaN\n",
       "5   1970-01-01 06:00:00 -112    NaN -144  31  36   NaN\n",
       "6   1970-01-01 07:00:00 -117 -120.0 -150  26  21   NaN\n",
       "7   1970-01-01 08:00:00 -111    NaN -156  21  31   NaN\n",
       "8   1970-01-01 09:00:00 -101    NaN -144  21  26   NaN\n",
       "9   1970-01-01 10:00:00  -89    NaN -132  26  26   NaN\n",
       "10  1970-01-01 11:00:00  -78    NaN -113  21  21   NaN\n",
       "11  1970-01-01 12:00:00  -66    NaN -102  21  26   NaN\n",
       "12  1970-01-01 13:00:00  -54    NaN  -87  21  21   NaN\n",
       "13  1970-01-01 14:00:00  -58    NaN  -79  15  15   NaN\n",
       "14  1970-01-01 15:00:00  -67    NaN  -90  10   0  26.0\n",
       "15  1970-01-01 16:00:00  -86    NaN -108   5   0  10.0\n",
       "16  1970-01-01 17:00:00  -98    NaN -131   5   5  10.0\n",
       "17  1970-01-01 18:00:00 -102    NaN -132   5  10  15.0\n",
       "18  1970-01-01 19:00:00  -99    NaN -124   5   5  15.0\n",
       "19  1970-01-01 20:00:00 -103    NaN -125  15  10  15.0\n",
       "20  1970-01-01 21:00:00  -86    NaN -113  21  15  26.0\n",
       "21  1970-01-01 22:00:00  -63    NaN  -94  31  26  46.0\n",
       "22  1970-01-01 23:00:00  -52    NaN  -84  41  31  51.0\n",
       "23  1970-01-02 01:00:00  -36    NaN  -68  51  36  67.0\n",
       "24  1970-01-02 02:00:00  -26    NaN  -52  51  41  77.0"
      ]
     },
     "execution_count": 3,
     "metadata": {},
     "output_type": "execute_result"
    }
   ],
   "source": [
    "weather_data.head(25)"
   ]
  },
  {
   "cell_type": "markdown",
   "metadata": {},
   "source": [
    "We see one peculiarity in this dataset. Namely, one day has 23 datapoints as the midnight datapoint has not been considered byt the dataset. This is not a big issue and just means we need to keep this in mind.\n",
    "\n",
    "Out of this notebook we will just use the temperature column. It is defintely worth considering keeping a number of other weather data but out of performance considerations, we will not do that now."
   ]
  },
  {
   "cell_type": "code",
   "execution_count": 5,
   "metadata": {},
   "outputs": [],
   "source": [
    "weather_train = weather_data.iloc[0:250000,1:2].values #1:2 doesnt select column 2 but makes it a 2D array!\n",
    "weather_valid = weather_data.iloc[250000:350000,1:2].values\n",
    "weather_test = weather_data.iloc[350000: ,1:2].values"
   ]
  },
  {
   "cell_type": "code",
   "execution_count": 6,
   "metadata": {},
   "outputs": [],
   "source": [
    "weather_total=weather_data.iloc[:,1:2].values"
   ]
  },
  {
   "cell_type": "markdown",
   "metadata": {},
   "source": [
    "After having separated the data set into the  training and test subsets we proceed to adapt our training set for the upcoming Neural Network. To do this we first rescale by substracting the mean of the temperature and dividing by the standard deviation. \n"
   ]
  },
  {
   "cell_type": "code",
   "execution_count": 7,
   "metadata": {},
   "outputs": [],
   "source": [
    "from sklearn.preprocessing import StandardScaler\n",
    "sc = StandardScaler()\n",
    "training_set_scaled = sc.fit_transform(weather_train)\n",
    "valid_set_scaled = sc.transform(weather_valid)\n",
    "test_set_scaled = sc.transform(weather_test)"
   ]
  },
  {
   "cell_type": "code",
   "execution_count": 8,
   "metadata": {},
   "outputs": [
    {
     "data": {
      "text/plain": [
       "array([-0.49833183, -0.51286768, -0.52740354, -0.48379597, -0.45472426,\n",
       "       -0.39658085, -0.32390157, -0.2512223 , -0.22215059, -0.20761474,\n",
       "       -0.22215059, -0.26575816, -0.29482986, -0.29482986, -0.28029401,\n",
       "       -0.29482986, -0.32390157, -0.33843743, -0.33843743, -0.30936572,\n",
       "       -0.38204499, -0.38204499, -0.38204499, -0.36750914, -0.35297328,\n",
       "       -0.35297328, -0.36750914, -0.36750914])"
      ]
     },
     "execution_count": 8,
     "metadata": {},
     "output_type": "execute_result"
    }
   ],
   "source": [
    "training_set_scaled[159600:159628,0]"
   ]
  },
  {
   "cell_type": "markdown",
   "metadata": {},
   "source": [
    "Having rescaled the data we proceed to create sets of 230(10 days) datapoints that will be used to predict the temperature one day later. It is important to notice here the choice of predicting one day into the future. If we would take the immediate next hour as the point to be predicted, we would create a persistence model. This implies that our Neural Network would choose to use the temperature of one hour prior as the output. This makes sense as the temperature deviations over one hour timespans are very low."
   ]
  },
  {
   "cell_type": "code",
   "execution_count": 9,
   "metadata": {},
   "outputs": [],
   "source": [
    "X_train = []\n",
    "y_train = []\n",
    "r = list(range(230, len(training_set_scaled)-23))\n",
    "np.random.shuffle(r)\n",
    "for i in r:\n",
    "    X_train.append(training_set_scaled[i-230:i, 0])\n",
    "    y_train.append(training_set_scaled[i+23, 0])\n",
    "X_train, y_train = np.array(X_train), np.array(y_train)\n",
    "\n",
    "\n",
    "X_valid = []\n",
    "y_valid = []\n",
    "\n",
    "for i in range(230, len(valid_set_scaled)-23):\n",
    "    X_valid.append(valid_set_scaled[i-230:i, 0])\n",
    "    y_valid.append(valid_set_scaled[i+23, 0])\n",
    "X_valid, y_valid = np.array(X_valid), np.array(y_valid)\n",
    "\n",
    "X_test = []\n",
    "y_test = []\n",
    "\n",
    "for i in range(230, len(test_set_scaled)-23):\n",
    "    X_test.append(test_set_scaled[i-230:i, 0])\n",
    "    y_test.append(test_set_scaled[i+23, 0])\n",
    "X_test, y_test = np.array(X_test), np.array(y_test)"
   ]
  },
  {
   "cell_type": "code",
   "execution_count": 10,
   "metadata": {},
   "outputs": [],
   "source": [
    "X_train = np.reshape(X_train, (X_train.shape[0], X_train.shape[1], 1))\n",
    "X_valid = np.reshape(X_valid, (X_valid.shape[0], X_valid.shape[1], 1))\n",
    "X_test = np.reshape(X_test, (X_test.shape[0], X_test.shape[1], 1))"
   ]
  },
  {
   "cell_type": "markdown",
   "metadata": {},
   "source": [
    "The standard deviation and the mean:"
   ]
  },
  {
   "cell_type": "code",
   "execution_count": 22,
   "metadata": {},
   "outputs": [
    {
     "data": {
      "text/plain": [
       "[array([68.79540529]), array([98.28294])]"
      ]
     },
     "execution_count": 22,
     "metadata": {},
     "output_type": "execute_result"
    }
   ],
   "source": [
    "[np.sqrt(sc.var_), sc.mean_]"
   ]
  },
  {
   "cell_type": "markdown",
   "metadata": {},
   "source": [
    "## Constructing the Recurrent  Neural Network and training it"
   ]
  },
  {
   "cell_type": "markdown",
   "metadata": {},
   "source": [
    "### The LSTM network"
   ]
  },
  {
   "cell_type": "markdown",
   "metadata": {},
   "source": [
    "We now prepare the Regressor Neural Network which will consist of four Long Short Term Memory (LSTM) layers with dropout renormalization. They amount of units chosen are 50 for the outer layers and 60 for the inner ones. These choices came after a fair amount of trial and error and are the ones that seem to obtain the best validation error. Other choices did yield better training results but created overfitting issues. This also applies for the choice of epochs. Most choices seemed to get the best validation loss around 15-20 epochs."
   ]
  },
  {
   "cell_type": "code",
   "execution_count": 13,
   "metadata": {},
   "outputs": [],
   "source": [
    "# Importing the Keras libraries and packages\n",
    "from keras.models import Sequential\n",
    "from keras.layers import Dense\n",
    "from keras.layers import LSTM, GRU\n",
    "from keras.layers import Dropout\n",
    "from keras.metrics import mean_absolute_error, RootMeanSquaredError\n",
    "from keras.optimizers import RMSprop"
   ]
  },
  {
   "cell_type": "code",
   "execution_count": 14,
   "metadata": {},
   "outputs": [],
   "source": [
    "# Initialising the RNN\n",
    "regressor = Sequential()\n",
    "\n",
    "# The input and hidden layers:\n",
    "regressor.add(LSTM(units = 50, \n",
    " return_sequences = True,  input_shape = (X_train.shape[1], 1)))\n",
    "regressor.add(LSTM(units = 60,\n",
    "dropout=0.2, return_sequences = True))\n",
    "\n",
    "regressor.add(LSTM(units = 60, dropout =0.4,return_sequences = True))\n",
    "regressor.add(LSTM(units = 50,dropout = 0.2))\n",
    "\n",
    "# Adding the output layer\n",
    "regressor.add(Dense(units = 1))\n",
    "\n",
    "# Compiling the RNN\n",
    "regressor.compile(optimizer = 'adam', loss = 'mae')"
   ]
  },
  {
   "cell_type": "markdown",
   "metadata": {},
   "source": [
    "Train the Neural Network over 15 epochs in batches of $128$ datapoints for the training set and $256$ for the validation set."
   ]
  },
  {
   "cell_type": "code",
   "execution_count": 15,
   "metadata": {},
   "outputs": [
    {
     "name": "stdout",
     "output_type": "stream",
     "text": [
      "Epoch 1/15\n",
      "1952/1952 [==============================] - 125s 64ms/step - loss: 0.3482 - val_loss: 0.3271\n",
      "Epoch 2/15\n",
      "1952/1952 [==============================] - 127s 65ms/step - loss: 0.3249 - val_loss: 0.3206\n",
      "Epoch 3/15\n",
      "1952/1952 [==============================] - 126s 64ms/step - loss: 0.3235 - val_loss: 0.3253\n",
      "Epoch 4/15\n",
      "1952/1952 [==============================] - 124s 64ms/step - loss: 0.3183 - val_loss: 0.3206\n",
      "Epoch 5/15\n",
      "1952/1952 [==============================] - 124s 63ms/step - loss: 0.3158 - val_loss: 0.3230\n",
      "Epoch 6/15\n",
      "1952/1952 [==============================] - 108s 55ms/step - loss: 0.3146 - val_loss: 0.3172\n",
      "Epoch 7/15\n",
      "1952/1952 [==============================] - 98s 50ms/step - loss: 0.3128 - val_loss: 0.3168\n",
      "Epoch 8/15\n",
      "1952/1952 [==============================] - 99s 51ms/step - loss: 0.3128 - val_loss: 0.3192\n",
      "Epoch 9/15\n",
      "1952/1952 [==============================] - 99s 51ms/step - loss: 0.3111 - val_loss: 0.3155\n",
      "Epoch 10/15\n",
      "1952/1952 [==============================] - 99s 51ms/step - loss: 0.3093 - val_loss: 0.3169\n",
      "Epoch 11/15\n",
      "1952/1952 [==============================] - 99s 51ms/step - loss: 0.3081 - val_loss: 0.3165\n",
      "Epoch 12/15\n",
      "1952/1952 [==============================] - 100s 51ms/step - loss: 0.3063 - val_loss: 0.3184\n",
      "Epoch 13/15\n",
      "1952/1952 [==============================] - 99s 51ms/step - loss: 0.3052 - val_loss: 0.3140\n",
      "Epoch 14/15\n",
      "1952/1952 [==============================] - 99s 51ms/step - loss: 0.3026 - val_loss: 0.3221\n",
      "Epoch 15/15\n",
      "1952/1952 [==============================] - 99s 51ms/step - loss: 0.3000 - val_loss: 0.3171\n"
     ]
    },
    {
     "data": {
      "text/plain": [
       "<tensorflow.python.keras.callbacks.History at 0x7fc9d00e7390>"
      ]
     },
     "execution_count": 15,
     "metadata": {},
     "output_type": "execute_result"
    }
   ],
   "source": [
    "regressor.fit(X_train, y_train, epochs = 15,batch_size= 128, validation_data=(X_valid, y_valid), validation_batch_size = 256)"
   ]
  },
  {
   "cell_type": "markdown",
   "metadata": {},
   "source": [
    "### The GRU network"
   ]
  },
  {
   "cell_type": "markdown",
   "metadata": {},
   "source": [
    "As a comparison I also present a GRU network. This type of layer is often used instand of an LSTM layer as it often has better performance on hardware for similar results. This is due to the fact it contains one gate less so it contains less parameters."
   ]
  },
  {
   "cell_type": "code",
   "execution_count": 16,
   "metadata": {},
   "outputs": [],
   "source": [
    "# Initialising the RNN\n",
    "regressor1 = Sequential()\n",
    "\n",
    "# Adding the first LSTM layer and some Dropout regularisation\n",
    "regressor1.add(GRU(units = 50, \n",
    " return_sequences = True,  input_shape = (X_train.shape[1], 1)))\n",
    "\n",
    "# Adding a second LSTM layer and some Dropout regularisation\n",
    "regressor1.add(GRU(units = 60,\n",
    "dropout=0.2, return_sequences = True))\n",
    "\n",
    "# Adding a third LSTM layer and some Dropout regularisation\n",
    "regressor1.add(GRU(units = 60, dropout =0.5,return_sequences = True))\n",
    "\n",
    "#Adding a fourth LSTM layer and some Dropout regularisation\n",
    "regressor1.add(GRU(units = 50,dropout = 0.2))\n",
    "\n",
    "# Adding the output layer\n",
    "regressor1.add(Dense(units = 1))\n",
    "\n",
    "# Compiling the RNN\n",
    "regressor1.compile(optimizer = 'adam', loss = 'mae')"
   ]
  },
  {
   "cell_type": "code",
   "execution_count": 17,
   "metadata": {},
   "outputs": [
    {
     "name": "stdout",
     "output_type": "stream",
     "text": [
      "Epoch 1/15\n",
      "1952/1952 [==============================] - 112s 58ms/step - loss: 0.3390 - val_loss: 0.3228\n",
      "Epoch 2/15\n",
      "1952/1952 [==============================] - 112s 57ms/step - loss: 0.3195 - val_loss: 0.3199\n",
      "Epoch 3/15\n",
      "1952/1952 [==============================] - 113s 58ms/step - loss: 0.3152 - val_loss: 0.3234\n",
      "Epoch 4/15\n",
      "1952/1952 [==============================] - 112s 57ms/step - loss: 0.3129 - val_loss: 0.3156\n",
      "Epoch 5/15\n",
      "1952/1952 [==============================] - 113s 58ms/step - loss: 0.3110 - val_loss: 0.3173\n",
      "Epoch 6/15\n",
      "1952/1952 [==============================] - 113s 58ms/step - loss: 0.3096 - val_loss: 0.3144\n",
      "Epoch 7/15\n",
      "1952/1952 [==============================] - 114s 58ms/step - loss: 0.3074 - val_loss: 0.3151\n",
      "Epoch 8/15\n",
      "1952/1952 [==============================] - 114s 59ms/step - loss: 0.3058 - val_loss: 0.3160\n",
      "Epoch 9/15\n",
      "1952/1952 [==============================] - 115s 59ms/step - loss: 0.3032 - val_loss: 0.3182\n",
      "Epoch 10/15\n",
      "1952/1952 [==============================] - 115s 59ms/step - loss: 0.3001 - val_loss: 0.3203\n",
      "Epoch 11/15\n",
      "1952/1952 [==============================] - 115s 59ms/step - loss: 0.2965 - val_loss: 0.3222\n",
      "Epoch 12/15\n",
      "1952/1952 [==============================] - 116s 59ms/step - loss: 0.2925 - val_loss: 0.3287\n",
      "Epoch 13/15\n",
      "1952/1952 [==============================] - 105s 54ms/step - loss: 0.2877 - val_loss: 0.3273\n",
      "Epoch 14/15\n",
      "1952/1952 [==============================] - 97s 49ms/step - loss: 0.2832 - val_loss: 0.3340\n",
      "Epoch 15/15\n",
      "1952/1952 [==============================] - 97s 50ms/step - loss: 0.2784 - val_loss: 0.3351\n"
     ]
    },
    {
     "data": {
      "text/plain": [
       "<tensorflow.python.keras.callbacks.History at 0x7fc9cc434550>"
      ]
     },
     "execution_count": 17,
     "metadata": {},
     "output_type": "execute_result"
    }
   ],
   "source": [
    "regressor1.fit(X_train, y_train, epochs = 15,batch_size= 128, validation_data=(X_valid, y_valid), validation_batch_size = 256)"
   ]
  },
  {
   "cell_type": "markdown",
   "metadata": {},
   "source": [
    "We see that for this network the results can be similar to the LSTM choice if we choose less epochs as overfitting becomes an issue faster. The overfitting starts appearing sooner but at that stage the training loss is similar to the LSTM one at 15 epochs. SO in less epochs it seems we can obtain a similar level Neural Network hence validating our comment about its performance we made when we introduced it. "
   ]
  },
  {
   "cell_type": "markdown",
   "metadata": {},
   "source": [
    "## Predicting and visualising the temperature behaviour"
   ]
  },
  {
   "cell_type": "code",
   "execution_count": 19,
   "metadata": {},
   "outputs": [],
   "source": [
    "predicted_weather_temp= regressor.predict(X_test)\n",
    "predicted_weather_temp = sc.inverse_transform(predicted_weather_temp)\n",
    "y_t = sc.inverse_transform(y_test).flatten().tolist()"
   ]
  },
  {
   "cell_type": "code",
   "execution_count": 20,
   "metadata": {},
   "outputs": [
    {
     "data": {
      "text/plain": [
       "22.04363654359324"
      ]
     },
     "execution_count": 20,
     "metadata": {},
     "output_type": "execute_result"
    }
   ],
   "source": [
    "mean_absolute_error(np.array(y_t),np.array(predicted_weather_temp.flatten().tolist() )).numpy()"
   ]
  },
  {
   "cell_type": "markdown",
   "metadata": {},
   "source": [
    "The mean absolute error is approximately 2.2 degrees Celsius which is a relatively decent result"
   ]
  },
  {
   "cell_type": "code",
   "execution_count": 24,
   "metadata": {},
   "outputs": [
    {
     "data": {
      "image/png": "[encoded data removed]",
      "text/plain": [
       "<Figure size 432x288 with 1 Axes>"
      ]
     },
     "metadata": {
      "needs_background": "light"
     },
     "output_type": "display_data"
    }
   ],
   "source": [
    "# Visualising the results\n",
    "plt.plot(y_t, color = 'red', label = 'Real Temperature')\n",
    "plt.plot(predicted_weather_temp,color = 'blue', label = 'Predicted Temperature De Bilt')\n",
    "x1,x2,y1,y2 = plt.axis()\n",
    "plt.axis((10000,12500,y1,y2))\n",
    "plt.title('Weather Prediction De Bilt')\n",
    "plt.xlabel('Time')\n",
    "plt.ylabel('Temperature')\n",
    "plt.legend()\n",
    "plt.show()"
   ]
  },
  {
   "cell_type": "markdown",
   "metadata": {},
   "source": [
    "## Comparison with baseline model"
   ]
  },
  {
   "cell_type": "markdown",
   "metadata": {},
   "source": [
    "We already mentioned the persistence model at an earlier stage. We will now make one which uses the input of 24 hours ago as the output prediction.  This makes sense as, overall, temperatures will not flucutate insanely over that timespan"
   ]
  },
  {
   "cell_type": "code",
   "execution_count": 24,
   "metadata": {},
   "outputs": [],
   "source": [
    "predictions = list()\n",
    "\n",
    "for i in range(23,len(weather_test)):\n",
    "        history = weather_test[i-23][0]\n",
    "        yhat = history\n",
    "        predictions.append(yhat)"
   ]
  },
  {
   "cell_type": "code",
   "execution_count": 29,
   "metadata": {},
   "outputs": [],
   "source": [
    " from sklearn.metrics import mean_absolute_error"
   ]
  },
  {
   "cell_type": "code",
   "execution_count": 28,
   "metadata": {},
   "outputs": [
    {
     "data": {
      "text/plain": [
       "23.416792890366338"
      ]
     },
     "execution_count": 28,
     "metadata": {},
     "output_type": "execute_result"
    }
   ],
   "source": [
    "y_t = sc.inverse_transform(y_test).flatten().tolist()\n",
    "mean_absolute_error(np.array(y_t),np.array(predictions[230:]).flatten().tolist())"
   ]
  },
  {
   "cell_type": "markdown",
   "metadata": {},
   "source": [
    "So we see that we beat the persistence model by approximately 0.15 degrees celsius on the test set. It might be possible to gain a bit more by continue to tinker with our model"
   ]
  }
 ],
 "metadata": {
  "kernelspec": {
   "display_name": "Python 3",
   "language": "python",
   "name": "python3"
  },
  "language_info": {
   "codemirror_mode": {
    "name": "ipython",
    "version": 3
   },
   "file_extension": ".py",
   "mimetype": "text/x-python",
   "name": "python",
   "nbconvert_exporter": "python",
   "pygments_lexer": "ipython3",
   "version": "3.7.6"
  }
 },
 "nbformat": 4,
 "nbformat_minor": 4
}
